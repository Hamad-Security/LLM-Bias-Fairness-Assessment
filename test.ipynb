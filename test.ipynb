{
 "cells": [
  {
   "cell_type": "code",
   "execution_count": 24,
   "metadata": {},
   "outputs": [],
   "source": [
    "import os\n",
    "import numpy as np\n",
    "import pandas as pd\n",
    "import matplotlib.pyplot as plt\n",
    "import seaborn as sns"
   ]
  },
  {
   "cell_type": "markdown",
   "metadata": {},
   "source": []
  },
  {
   "cell_type": "code",
   "execution_count": 18,
   "metadata": {},
   "outputs": [],
   "source": [
    "dir_path = '../../Dataset/'\n",
    "lastfm_filepath='lastfm-dataset-1k.snappy.parquet'"
   ]
  },
  {
   "cell_type": "code",
   "execution_count": 13,
   "metadata": {},
   "outputs": [
    {
     "name": "stdout",
     "output_type": "stream",
     "text": [
      "/Users/muhammadhamad/Library/CloudStorage/OneDrive-AaltoUniversity/KTH_Courses/Thesis/Code/LLM-Bias-Fairness-Assessment\n"
     ]
    }
   ],
   "source": [
    "!pwd"
   ]
  },
  {
   "cell_type": "code",
   "execution_count": null,
   "metadata": {},
   "outputs": [
    {
     "name": "stdout",
     "output_type": "stream",
     "text": [
      "Number of Records: 19,098,853\n",
      "Unique Users: 992\n",
      "Unique Artist:107,295\n"
     ]
    },
    {
     "data": {
      "application/vnd.microsoft.datawrangler.viewer.v0+json": {
       "columns": [
        {
         "name": "index",
         "rawType": "int64",
         "type": "integer"
        },
        {
         "name": "user_id",
         "rawType": "object",
         "type": "string"
        },
        {
         "name": "timestamp",
         "rawType": "datetime64[ns, UTC]",
         "type": "unknown"
        },
        {
         "name": "artist_id",
         "rawType": "object",
         "type": "string"
        },
        {
         "name": "artist_name",
         "rawType": "object",
         "type": "string"
        },
        {
         "name": "track_id",
         "rawType": "object",
         "type": "string"
        },
        {
         "name": "track_name",
         "rawType": "object",
         "type": "string"
        }
       ],
       "conversionMethod": "pd.DataFrame",
       "ref": "0f172781-b7c7-4b3b-a8c1-2750735ff518",
       "rows": [
        [
         "0",
         "user_000001",
         "2006-08-13 13:59:20+00:00",
         "09a114d9-7723-4e14-b524-379697f6d2b5",
         "Plaid & Bob Jaroc",
         "c4633ab1-e715-477f-8685-afa5f2058e42",
         "The Launching Of Big Face"
        ],
        [
         "1",
         "user_000001",
         "2006-08-13 14:03:29+00:00",
         "09a114d9-7723-4e14-b524-379697f6d2b5",
         "Plaid & Bob Jaroc",
         "bc2765af-208c-44c5-b3b0-cf597a646660",
         "Zn Zero"
        ],
        [
         "2",
         "user_000001",
         "2006-08-13 14:10:43+00:00",
         "09a114d9-7723-4e14-b524-379697f6d2b5",
         "Plaid & Bob Jaroc",
         "aa9c5a80-5cbe-42aa-a966-eb3cfa37d832",
         "The Return Of Super Barrio - End Credits"
        ],
        [
         "3",
         "user_000001",
         "2006-08-13 14:17:40+00:00",
         "67fb65b5-6589-47f0-9371-8a40eb268dfb",
         "Tommy Guerrero",
         "d9b1c1da-7e47-4f97-a135-77260f2f559d",
         "Mission Flats"
        ],
        [
         "4",
         "user_000001",
         "2006-08-13 14:19:06+00:00",
         "1cfbc7d1-299c-46e6-ba4c-1facb84ba435",
         "Artful Dodger",
         "120bb01c-03e4-465f-94a0-dce5e9fac711",
         "What You Gonna Do?"
        ]
       ],
       "shape": {
        "columns": 6,
        "rows": 5
       }
      },
      "text/html": [
       "<div>\n",
       "<style scoped>\n",
       "    .dataframe tbody tr th:only-of-type {\n",
       "        vertical-align: middle;\n",
       "    }\n",
       "\n",
       "    .dataframe tbody tr th {\n",
       "        vertical-align: top;\n",
       "    }\n",
       "\n",
       "    .dataframe thead th {\n",
       "        text-align: right;\n",
       "    }\n",
       "</style>\n",
       "<table border=\"1\" class=\"dataframe\">\n",
       "  <thead>\n",
       "    <tr style=\"text-align: right;\">\n",
       "      <th></th>\n",
       "      <th>user_id</th>\n",
       "      <th>timestamp</th>\n",
       "      <th>artist_id</th>\n",
       "      <th>artist_name</th>\n",
       "      <th>track_id</th>\n",
       "      <th>track_name</th>\n",
       "    </tr>\n",
       "  </thead>\n",
       "  <tbody>\n",
       "    <tr>\n",
       "      <th>0</th>\n",
       "      <td>user_000001</td>\n",
       "      <td>2006-08-13 13:59:20+00:00</td>\n",
       "      <td>09a114d9-7723-4e14-b524-379697f6d2b5</td>\n",
       "      <td>Plaid &amp; Bob Jaroc</td>\n",
       "      <td>c4633ab1-e715-477f-8685-afa5f2058e42</td>\n",
       "      <td>The Launching Of Big Face</td>\n",
       "    </tr>\n",
       "    <tr>\n",
       "      <th>1</th>\n",
       "      <td>user_000001</td>\n",
       "      <td>2006-08-13 14:03:29+00:00</td>\n",
       "      <td>09a114d9-7723-4e14-b524-379697f6d2b5</td>\n",
       "      <td>Plaid &amp; Bob Jaroc</td>\n",
       "      <td>bc2765af-208c-44c5-b3b0-cf597a646660</td>\n",
       "      <td>Zn Zero</td>\n",
       "    </tr>\n",
       "    <tr>\n",
       "      <th>2</th>\n",
       "      <td>user_000001</td>\n",
       "      <td>2006-08-13 14:10:43+00:00</td>\n",
       "      <td>09a114d9-7723-4e14-b524-379697f6d2b5</td>\n",
       "      <td>Plaid &amp; Bob Jaroc</td>\n",
       "      <td>aa9c5a80-5cbe-42aa-a966-eb3cfa37d832</td>\n",
       "      <td>The Return Of Super Barrio - End Credits</td>\n",
       "    </tr>\n",
       "    <tr>\n",
       "      <th>3</th>\n",
       "      <td>user_000001</td>\n",
       "      <td>2006-08-13 14:17:40+00:00</td>\n",
       "      <td>67fb65b5-6589-47f0-9371-8a40eb268dfb</td>\n",
       "      <td>Tommy Guerrero</td>\n",
       "      <td>d9b1c1da-7e47-4f97-a135-77260f2f559d</td>\n",
       "      <td>Mission Flats</td>\n",
       "    </tr>\n",
       "    <tr>\n",
       "      <th>4</th>\n",
       "      <td>user_000001</td>\n",
       "      <td>2006-08-13 14:19:06+00:00</td>\n",
       "      <td>1cfbc7d1-299c-46e6-ba4c-1facb84ba435</td>\n",
       "      <td>Artful Dodger</td>\n",
       "      <td>120bb01c-03e4-465f-94a0-dce5e9fac711</td>\n",
       "      <td>What You Gonna Do?</td>\n",
       "    </tr>\n",
       "  </tbody>\n",
       "</table>\n",
       "</div>"
      ],
      "text/plain": [
       "       user_id                 timestamp  \\\n",
       "0  user_000001 2006-08-13 13:59:20+00:00   \n",
       "1  user_000001 2006-08-13 14:03:29+00:00   \n",
       "2  user_000001 2006-08-13 14:10:43+00:00   \n",
       "3  user_000001 2006-08-13 14:17:40+00:00   \n",
       "4  user_000001 2006-08-13 14:19:06+00:00   \n",
       "\n",
       "                              artist_id        artist_name  \\\n",
       "0  09a114d9-7723-4e14-b524-379697f6d2b5  Plaid & Bob Jaroc   \n",
       "1  09a114d9-7723-4e14-b524-379697f6d2b5  Plaid & Bob Jaroc   \n",
       "2  09a114d9-7723-4e14-b524-379697f6d2b5  Plaid & Bob Jaroc   \n",
       "3  67fb65b5-6589-47f0-9371-8a40eb268dfb     Tommy Guerrero   \n",
       "4  1cfbc7d1-299c-46e6-ba4c-1facb84ba435      Artful Dodger   \n",
       "\n",
       "                               track_id  \\\n",
       "0  c4633ab1-e715-477f-8685-afa5f2058e42   \n",
       "1  bc2765af-208c-44c5-b3b0-cf597a646660   \n",
       "2  aa9c5a80-5cbe-42aa-a966-eb3cfa37d832   \n",
       "3  d9b1c1da-7e47-4f97-a135-77260f2f559d   \n",
       "4  120bb01c-03e4-465f-94a0-dce5e9fac711   \n",
       "\n",
       "                                 track_name  \n",
       "0                 The Launching Of Big Face  \n",
       "1                                   Zn Zero  \n",
       "2  The Return Of Super Barrio - End Credits  \n",
       "3                             Mission Flats  \n",
       "4                        What You Gonna Do?  "
      ]
     },
     "execution_count": 16,
     "metadata": {},
     "output_type": "execute_result"
    }
   ],
   "source": [
    "df = pd.read_parquet(dir_path+lastfm_filepath)\n",
    "print(f'Number of Records: {len(df):,}\\nUnique Users: {df.user_id.nunique()}\\nUnique Artist:{df.artist_id.nunique():,}')\n",
    "df.head(5)"
   ]
  },
  {
   "cell_type": "code",
   "execution_count": 22,
   "metadata": {},
   "outputs": [
    {
     "name": "stdout",
     "output_type": "stream",
     "text": [
      "   movieId                               title  \\\n",
      "0        1                    Toy Story (1995)   \n",
      "1        2                      Jumanji (1995)   \n",
      "2        3             Grumpier Old Men (1995)   \n",
      "3        4            Waiting to Exhale (1995)   \n",
      "4        5  Father of the Bride Part II (1995)   \n",
      "\n",
      "                                        genres  \n",
      "0  Adventure|Animation|Children|Comedy|Fantasy  \n",
      "1                   Adventure|Children|Fantasy  \n",
      "2                               Comedy|Romance  \n",
      "3                         Comedy|Drama|Romance  \n",
      "4                                       Comedy  \n",
      "   userId  movieId  rating            timestamp\n",
      "0       1        2     3.5  2005-04-02 23:53:47\n",
      "1       1       29     3.5  2005-04-02 23:31:16\n",
      "2       1       32     3.5  2005-04-02 23:33:39\n",
      "3       1       47     3.5  2005-04-02 23:32:07\n",
      "4       1       50     3.5  2005-04-02 23:29:40\n"
     ]
    }
   ],
   "source": [
    "# Load datasets\n",
    "movies = pd.read_csv(dir_path+'movielens/movie.csv')\n",
    "ratings = pd.read_csv(dir_path+'movielens/rating.csv')\n",
    "\n",
    "# Display the first few rows of each dataframe\n",
    "print(movies.head())\n",
    "print(ratings.head())"
   ]
  },
  {
   "cell_type": "code",
   "execution_count": 25,
   "metadata": {},
   "outputs": [
    {
     "name": "stdout",
     "output_type": "stream",
     "text": [
      "             userId       movieId        rating\n",
      "count  2.000026e+07  2.000026e+07  2.000026e+07\n",
      "mean   6.904587e+04  9.041567e+03  3.525529e+00\n",
      "std    4.003863e+04  1.978948e+04  1.051989e+00\n",
      "min    1.000000e+00  1.000000e+00  5.000000e-01\n",
      "25%    3.439500e+04  9.020000e+02  3.000000e+00\n",
      "50%    6.914100e+04  2.167000e+03  3.500000e+00\n",
      "75%    1.036370e+05  4.770000e+03  4.000000e+00\n",
      "max    1.384930e+05  1.312620e+05  5.000000e+00\n"
     ]
    },
    {
     "data": {
      "image/png": "[encoded data removed]",
      "text/plain": [
       "<Figure size 1000x600 with 1 Axes>"
      ]
     },
     "metadata": {},
     "output_type": "display_data"
    },
    {
     "name": "stdout",
     "output_type": "stream",
     "text": [
      "Top 10 most rated movies:\n",
      "Pulp Fiction (1994)                          67310\n",
      "Forrest Gump (1994)                          66172\n",
      "Shawshank Redemption, The (1994)             63366\n",
      "Silence of the Lambs, The (1991)             63299\n",
      "Jurassic Park (1993)                         59715\n",
      "Star Wars: Episode IV - A New Hope (1977)    54502\n",
      "Braveheart (1995)                            53769\n",
      "Terminator 2: Judgment Day (1991)            52244\n",
      "Matrix, The (1999)                           51334\n",
      "Schindler's List (1993)                      50054\n",
      "Name: title, dtype: int64\n"
     ]
    }
   ],
   "source": [
    "# Convert 'timestamp' to datetime format\n",
    "ratings['timestamp'] = pd.to_datetime(ratings['timestamp'])\n",
    "\n",
    "# Merge datasets on 'movieId'\n",
    "merged_data = pd.merge(ratings, movies, on='movieId')\n",
    "\n",
    "# Display basic statistics\n",
    "print(merged_data.describe())\n",
    "\n",
    "# Plot distribution of ratings\n",
    "plt.figure(figsize=(10, 6))\n",
    "sns.countplot(x='rating', data=merged_data, palette='viridis')\n",
    "plt.title('Distribution of Movie Ratings')\n",
    "plt.xlabel('Rating')\n",
    "plt.ylabel('Count')\n",
    "plt.show()\n",
    "\n",
    "# Top 10 most rated movies\n",
    "top_movies = merged_data['title'].value_counts().head(10)\n",
    "print(\"Top 10 most rated movies:\")\n",
    "print(top_movies)"
   ]
  }
 ],
 "metadata": {
  "kernelspec": {
   "display_name": "base",
   "language": "python",
   "name": "python3"
  },
  "language_info": {
   "codemirror_mode": {
    "name": "ipython",
    "version": 3
   },
   "file_extension": ".py",
   "mimetype": "text/x-python",
   "name": "python",
   "nbconvert_exporter": "python",
   "pygments_lexer": "ipython3",
   "version": "3.11.5"
  }
 },
 "nbformat": 4,
 "nbformat_minor": 2
}
