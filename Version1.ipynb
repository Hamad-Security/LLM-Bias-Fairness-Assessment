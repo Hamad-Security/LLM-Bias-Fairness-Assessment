{
 "cells": [
  {
   "cell_type": "markdown",
   "metadata": {},
   "source": [
    "### Step 1: Data Loading and Preprocessing\n",
    "# Purpose: Load MovieLens datasets and prepare for temporal splitting as per Section 3.5.1\n",
    "# Paper Reference: Section 3.5.1 describes dataset preparation with temporal splitting\n",
    "\n",
    "# Implementation: Load CSVs, convert timestamps, and merge data"
   ]
  },
  {
   "cell_type": "code",
   "execution_count": 25,
   "metadata": {},
   "outputs": [],
   "source": [
    "import pandas as pd\n",
    "from datetime import datetime\n",
    "\n",
    "# Load datasets\n",
    "# Define column names\n",
    "ratings_columns = [\"UserID\", \"MovieID\", \"Rating\", \"Timestamp\"]\n",
    "users_columns = [\"UserID\", \"Gender\", \"Age\", \"Occupation\", \"Zip-code\"]\n",
    "movies_columns = [\"MovieID\", \"Title\", \"Genres\"]\n",
    "\n",
    "dirpath= '../../Dataset/ML-1M/'\n",
    "\n",
    "# Read data files\n",
    "ratings = pd.read_csv(dirpath + \"ratings.dat\", sep=\"::\", names=ratings_columns, engine='python', encoding='ISO-8859-1')\n",
    "users = pd.read_csv(dirpath + \"users.dat\", sep=\"::\", names=users_columns, engine='python', encoding='ISO-8859-1')\n",
    "movies = pd.read_csv(dirpath + \"movies.dat\", sep=\"::\", names=movies_columns, engine='python', encoding='ISO-8859-1')\n",
    "\n",
    "# First merge ratings with movies to get genres\n",
    "ratings_movies = pd.merge(ratings, movies, on='MovieID')\n",
    "\n",
    "# Then merge with user demographics\n",
    "full_data = pd.merge(ratings_movies, users, on='UserID')\n",
    "\n",
    "# Create age groups (as before)\n",
    "def age_to_group(age):\n",
    "    if age < 18: return 'Teen'\n",
    "    elif 18 <= age <= 35: return 'Young'\n",
    "    else: return 'Adult'\n",
    "\n",
    "users['AgeGroup'] = users['Age'].apply(age_to_group)\n"
   ]
  },
  {
   "cell_type": "markdown",
   "metadata": {},
   "source": [
    "### Step 2: Temporal Train-Test Split\n",
    "# Purpose: Implement temporal splitting strategy mentioned in Section 3.5.1\n",
    "# Paper Reference: \"Users' own ratings were used to construct profiles in training set\"\n",
    "# Implementation: Sort by time, split each user's last 20% interactions as test\n"
   ]
  },
  {
   "cell_type": "code",
   "execution_count": 26,
   "metadata": {},
   "outputs": [],
   "source": [
    "train_data = []\n",
    "test_data = []\n",
    "\n",
    "for user_id, group in full_data.groupby('UserID'):\n",
    "    sorted_group = group.sort_values('Timestamp')\n",
    "    split_idx = int(0.8 * len(sorted_group))\n",
    "    train_data.append(sorted_group.iloc[:split_idx])\n",
    "    test_data.append(sorted_group.iloc[split_idx:])\n",
    "\n",
    "train_df = pd.concat(train_data)\n",
    "test_df = pd.concat(test_data)"
   ]
  },
  {
   "cell_type": "markdown",
   "metadata": {},
   "source": [
    "### Step 3: User Profile Construction\n",
    "# Purpose: Implement three sampling strategies from Section 3.4.2\n",
    "# Paper Reference: \"Random, Top-Rated, Recent sampling with N_prof=10\"\n",
    "# Implementation: Create profile generators for each strategy\n"
   ]
  },
  {
   "cell_type": "code",
   "execution_count": 27,
   "metadata": {},
   "outputs": [],
   "source": [
    "def create_profiles(user_ratings, n=10):\n",
    "    profiles = {\n",
    "        'random': user_ratings.sample(n=n),\n",
    "        'top-rated': user_ratings.nlargest(n, 'Rating'),\n",
    "        'recent': user_ratings.nlargest(n, 'Timestamp')\n",
    "    }\n",
    "    return profiles\n",
    "\n",
    "# Generate profiles with full movie info\n",
    "user_profiles = {}\n",
    "for user_id, data in train_df.groupby('UserID'):\n",
    "    user_profiles[user_id] = create_profiles(data)"
   ]
  },
  {
   "cell_type": "markdown",
   "metadata": {},
   "source": [
    "### Step 4: Prompt Generation\n",
    "# Purpose: Create neutral and sensitive prompts as per Section 3.4.1\n",
    "# Paper Reference: Structured templates with/without sensitive attributes\n",
    "# Implementation: Construct prompts using profile movies and demographic data\n"
   ]
  },
  {
   "cell_type": "code",
   "execution_count": 28,
   "metadata": {},
   "outputs": [
    {
     "name": "stdout",
     "output_type": "stream",
     "text": [
      "Sample Sensitive Prompt:\n",
      " The user is a Teen F.\n",
      "The user mostly likes genres ['Drama', 'Musical', 'Comedy'] from years 1950 to 1998\n",
      "Considering the user's preferences for movies like Cinderella (1950) (1950, Genres: Animation|Children's|Musical, Rating: 5/5), Back to the Future (1985) (1985, Genres: Comedy|Sci-Fi, Rating: 5/5), Last Days of Disco, The (1998) (1998, Genres: Drama, Rating: 5/5), recommend 10 movies they will enjoy.\n"
     ]
    }
   ],
   "source": [
    "def generate_prompt(user_id, profile_type, include_sensitive=False):\n",
    "    profile = user_profiles[user_id][profile_type]\n",
    "    user_info = users[users['UserID'] == user_id].iloc[0]\n",
    "    \n",
    "    # Get top genres and years from profile\n",
    "    genres = profile['Genres'].str.split('|').explode().value_counts().index[:3].tolist()\n",
    "    years = profile['Title'].str.extract(r'\\((\\d{4})\\)')[0].unique()\n",
    "    \n",
    "    # Build passion profile\n",
    "    passion_profile = (\n",
    "        f\"The user mostly likes genres {genres} \"\n",
    "        f\"from years {min(years)} to {max(years)}\"\n",
    "    )\n",
    "    \n",
    "    # Build consumption profile\n",
    "    consumed_movies = [\n",
    "        f\"{row['Title']} ({row['Title'][-5:-1]}, Genres: {row['Genres']}, Rating: {row['Rating']}/5)\"\n",
    "        for _, row in profile.iterrows()\n",
    "    ]\n",
    "    \n",
    "    # Add sensitive attributes if needed\n",
    "    sensitive = \"\"\n",
    "    if include_sensitive:\n",
    "        sensitive = f\"The user is a {user_info['AgeGroup']} {user_info['Gender']}.\\n\"\n",
    "    \n",
    "    return (\n",
    "        f\"{sensitive}{passion_profile}\\n\"\n",
    "        f\"Considering the user's preferences for movies like {', '.join(consumed_movies[:3])}, \"\n",
    "        \"recommend 10 movies they will enjoy.\"\n",
    "    )\n",
    "\n",
    "# Example prompt generation\n",
    "sample_prompt = generate_prompt(1, 'top-rated', include_sensitive=True)\n",
    "print(\"Sample Sensitive Prompt:\\n\", sample_prompt)\n"
   ]
  },
  {
   "cell_type": "markdown",
   "metadata": {},
   "source": [
    "### Corrected Step 5: LLM Recommendation Simulation\n",
    "# Purpose: Properly handle movie data DataFrame access\n",
    "# Paper Reference: Section 3.5.3 requires genre-based recommendations\n",
    "# Implementation: Use DataFrame operations instead of dictionary access\n"
   ]
  },
  {
   "cell_type": "code",
   "execution_count": 21,
   "metadata": {},
   "outputs": [],
   "source": [
    "def get_llm_recommendation(prompt, real_movies):\n",
    "    # Extract genres from prompt (simplified pattern matching)\n",
    "    genres = []\n",
    "    if \"genres\" in prompt.lower():\n",
    "        genre_part = prompt.split(\"genres\")[1].split(\"from\")[0]\n",
    "        genres = [g.strip(\" []'\") for g in genre_part.split(\",\")][:3]\n",
    "    \n",
    "    # Filter movies by matched genres\n",
    "    if genres:\n",
    "        mask = real_movies['Genres'].apply(\n",
    "            lambda x: any(g in x for g in genres))\n",
    "        filtered_movies = real_movies[mask]\n",
    "    else:\n",
    "        filtered_movies = real_movies\n",
    "    \n",
    "    # Return random sample from filtered movies\n",
    "    return filtered_movies.sample(10)['Title'].tolist() if not filtered_movies.empty else []\n",
    "\n",
    "# Get actual movie data for matching\n",
    "real_movie_titles = movies['Title'].tolist()"
   ]
  },
  {
   "cell_type": "markdown",
   "metadata": {},
   "source": [
    "### Step 6: Recommendation Processing\n",
    "# Purpose: Process LLM outputs and match with movie database\n",
    "# Paper Reference: Section 3.5.3 describes title matching with difflib\n",
    "# Implementation: Use sequence matching to align recommendations\n"
   ]
  },
  {
   "cell_type": "code",
   "execution_count": 29,
   "metadata": {},
   "outputs": [],
   "source": [
    "from difflib import get_close_matches\n",
    "\n",
    "\n",
    "def process_recommendations(recommended_titles):\n",
    "    matched_titles = []\n",
    "    for title in recommended_titles:\n",
    "        # Extract year and clean title\n",
    "        clean_title = title.split('(')[0].strip()\n",
    "        matches = get_close_matches(clean_title, real_movie_titles, n=1)\n",
    "        matched_titles.append(matches[0] if matches else None)\n",
    "    return [t for t in matched_titles if t is not None]\n"
   ]
  },
  {
   "cell_type": "markdown",
   "metadata": {},
   "source": [
    "### Step 7: Evaluation Metrics\n",
    "# Purpose: Implement fairness metrics from Section 3.4.4\n",
    "# Paper Reference: Jaccard Similarity, SNSR, SNSV calculations\n"
   ]
  },
  {
   "cell_type": "code",
   "execution_count": 30,
   "metadata": {},
   "outputs": [],
   "source": [
    "def jaccard_similarity(set_a, set_b):\n",
    "    intersection = len(set(set_a) & set(set_b))\n",
    "    union = len(set(set_a) | set(set_b))\n",
    "    return intersection / union if union else 0\n",
    "\n",
    "def calculate_snsr(similarity_scores):\n",
    "    return max(similarity_scores) - min(similarity_scores)\n",
    "\n",
    "def calculate_snsv(similarity_scores):\n",
    "    mean_score = sum(similarity_scores) / len(similarity_scores)\n",
    "    variance = sum((x - mean_score)**2 for x in similarity_scores) / len(similarity_scores)\n",
    "    return variance**0.5"
   ]
  },
  {
   "cell_type": "markdown",
   "metadata": {},
   "source": [
    "### Step 8: Full Experiment Workflow\n",
    "# Purpose: Execute complete fairness evaluation as per Section 4\n",
    "# Paper Reference: Research Questions 1-4 implementation\n",
    "# Implementation: Loop through users, profiles, and attributes\n"
   ]
  },
  {
   "cell_type": "code",
   "execution_count": 31,
   "metadata": {},
   "outputs": [],
   "source": [
    "\n",
    "results = []\n",
    "\n",
    "for user_id in list(users['UserID'])[:10]:  # Reduced sample for demonstration\n",
    "    user_data = users[users['UserID'] == user_id].iloc[0]\n",
    "    test_items = test_df[test_df['UserID'] == user_id]['MovieID'].tolist()\n",
    "    \n",
    "    for strategy in ['random', 'top-rated', 'recent']:\n",
    "        # Generate neutral and sensitive prompts\n",
    "        neutral_prompt = generate_prompt(user_id, strategy)\n",
    "        sensitive_prompt = generate_prompt(user_id, strategy, include_sensitive=True)\n",
    "        \n",
    "        # Get recommendations (simulated)\n",
    "        neutral_recs = process_recommendations(get_llm_recommendation(neutral_prompt, movies))\n",
    "        sensitive_recs = process_recommendations(get_llm_recommendation(sensitive_prompt, movies))\n",
    "        \n",
    "        # Calculate metrics\n",
    "        item_sim = jaccard_similarity(neutral_recs, sensitive_recs)\n",
    "        true_pref_sim = jaccard_similarity(\n",
    "            [m for m in neutral_recs if m in test_items],\n",
    "            [m for m in sensitive_recs if m in test_items]\n",
    "        )\n",
    "        \n",
    "        results.append({\n",
    "            'UserID': user_id,\n",
    "            'Strategy': strategy,\n",
    "            'AgeGroup': user_data['AgeGroup'],\n",
    "            'Gender': user_data['Gender'],\n",
    "            'ItemSimilarity': item_sim,\n",
    "            'TruePrefSimilarity': true_pref_sim\n",
    "        })\n",
    "\n",
    "# Convert results to DataFrame\n",
    "results_df = pd.DataFrame(results)"
   ]
  },
  {
   "cell_type": "markdown",
   "metadata": {},
   "source": [
    "### Corrected Step 9: Fairness Analysis\n",
    "# Purpose: Properly handle numeric columns for metric calculations\n",
    "# Paper Reference: Section 3.4.4 requires numeric fairness metrics only\n",
    "# Implementation: Select only numeric columns for aggregation\n"
   ]
  },
  {
   "cell_type": "code",
   "execution_count": 32,
   "metadata": {},
   "outputs": [
    {
     "name": "stdout",
     "output_type": "stream",
     "text": [
      "\n",
      "Fairness Metrics Summary:\n",
      "           SNSR_Item  SNSV_Item  SNSR_TruePref  SNSV_TruePref\n",
      "Strategy                                                     \n",
      "random        0.0000    0.00000            0.0            0.0\n",
      "recent        0.0125    0.00625            0.0            0.0\n",
      "top-rated     0.0000    0.00000            0.0            0.0\n"
     ]
    }
   ],
   "source": [
    "grouped = results_df.groupby(['Gender', 'AgeGroup', 'Strategy'])\n",
    "\n",
    "# Calculate fairness metrics\n",
    "fairness_metrics = []\n",
    "for (gender, age, strategy), group in grouped:\n",
    "    fairness_metrics.append({\n",
    "        'Strategy': strategy,\n",
    "        'Gender': gender,\n",
    "        'AgeGroup': age,\n",
    "        'SNSR_Item': calculate_snsr(group['ItemSimilarity']),\n",
    "        'SNSV_Item': calculate_snsv(group['ItemSimilarity']),\n",
    "        'SNSR_TruePref': calculate_snsr(group['TruePrefSimilarity']),\n",
    "        'SNSV_TruePref': calculate_snsv(group['TruePrefSimilarity'])\n",
    "    })\n",
    "\n",
    "metrics_df = pd.DataFrame(fairness_metrics)\n",
    "\n",
    "# Select only numeric columns for aggregation\n",
    "numeric_cols = ['SNSR_Item', 'SNSV_Item', 'SNSR_TruePref', 'SNSV_TruePref']\n",
    "print(\"\\nFairness Metrics Summary:\")\n",
    "print(metrics_df.groupby('Strategy')[numeric_cols].mean())\n"
   ]
  },
  {
   "cell_type": "markdown",
   "metadata": {},
   "source": [
    "### Step 10: Visualization\n",
    "# Purpose: Recreate paper figures (Figures 2-4)\n",
    "# Paper Reference: Visualization of fairness metrics across strategies\n",
    "# Implementation: Plotting using matplotlib\n"
   ]
  },
  {
   "cell_type": "code",
   "execution_count": 34,
   "metadata": {},
   "outputs": [
    {
     "name": "stderr",
     "output_type": "stream",
     "text": [
      "/var/folders/vq/h7xdm9mn3hnc_wv672bpzv8w0000gn/T/ipykernel_34969/270228072.py:7: FutureWarning: \n",
      "\n",
      "The `ci` parameter is deprecated. Use `errorbar=None` for the same effect.\n",
      "\n",
      "  sns.barplot(\n"
     ]
    },
    {
     "data": {
      "image/png": "[encoded data removed]",
      "text/plain": [
       "<Figure size 1400x800 with 1 Axes>"
      ]
     },
     "metadata": {},
     "output_type": "display_data"
    }
   ],
   "source": [
    "import matplotlib.pyplot as plt\n",
    "import seaborn as sns\n",
    "\n",
    "metrics_df['Demographic'] = metrics_df['Gender'] + ' ' + metrics_df['AgeGroup']\n",
    "\n",
    "plt.figure(figsize=(14, 8))\n",
    "sns.barplot(\n",
    "    x='Strategy', \n",
    "    y='SNSR_Item', \n",
    "    hue='Demographic',\n",
    "    data=metrics_df,\n",
    "    palette='viridis',\n",
    "    ci=None\n",
    ")\n",
    "plt.title('SNSR Across Strategies and Demographic Groups (Item Similarity)')\n",
    "plt.ylabel('SNSR Score')\n",
    "plt.xlabel('Sampling Strategy')\n",
    "plt.legend(title='Demographic Group', bbox_to_anchor=(1.05, 1), loc='upper left')\n",
    "plt.tight_layout()\n",
    "plt.show()"
   ]
  }
 ],
 "metadata": {
  "kernelspec": {
   "display_name": "lab2_scalable",
   "language": "python",
   "name": "python3"
  },
  "language_info": {
   "codemirror_mode": {
    "name": "ipython",
    "version": 3
   },
   "file_extension": ".py",
   "mimetype": "text/x-python",
   "name": "python",
   "nbconvert_exporter": "python",
   "pygments_lexer": "ipython3",
   "version": "3.10.0"
  }
 },
 "nbformat": 4,
 "nbformat_minor": 2
}
